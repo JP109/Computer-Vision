{
  "nbformat": 4,
  "nbformat_minor": 0,
  "metadata": {
    "colab": {
      "name": "Cats v/s Dogs Classifier using Transfer Learning.ipynb",
      "provenance": [],
      "collapsed_sections": [],
      "authorship_tag": "ABX9TyMTwfdJ/vtMeetqslS33AHn",
      "include_colab_link": true
    },
    "kernelspec": {
      "display_name": "Python 3",
      "name": "python3"
    },
    "language_info": {
      "name": "python"
    }
  },
  "cells": [
    {
      "cell_type": "markdown",
      "metadata": {
        "id": "view-in-github",
        "colab_type": "text"
      },
      "source": [
        "<a href=\"https://colab.research.google.com/github/JP109/Computer-Vision/blob/main/Image%20Data/Image%20Classification/Cats_v_s_Dogs_Classifier_using_Transfer_Learning.ipynb\" target=\"_parent\"><img src=\"https://colab.research.google.com/assets/colab-badge.svg\" alt=\"Open In Colab\"/></a>"
      ]
    },
    {
      "cell_type": "markdown",
      "metadata": {
        "id": "RH8qgkmP_qui"
      },
      "source": [
        "Cats v/s Dogs Classification using Transfer Learning on inception_v3, we will retrain the model and no previous weights will be used."
      ]
    },
    {
      "cell_type": "markdown",
      "metadata": {
        "id": "nD2KfCZs_-cN"
      },
      "source": [
        "## **1. Imports and Setup**"
      ]
    },
    {
      "cell_type": "code",
      "metadata": {
        "colab": {
          "base_uri": "https://localhost:8080/"
        },
        "id": "kGBV_keAJ43g",
        "outputId": "a339db9b-42c8-4411-bab2-542bc285d9b5"
      },
      "source": [
        "import os\n",
        "\n",
        "from tensorflow.keras import layers\n",
        "from tensorflow.keras import Model\n",
        "!wget --no-check-certificate \\\n",
        "    https://storage.googleapis.com/mledu-datasets/inception_v3_weights_tf_dim_ordering_tf_kernels_notop.h5 \\\n",
        "    -O /tmp/inception_v3_weights_tf_dim_ordering_tf_kernels_notop.h5\n",
        "  \n",
        "from tensorflow.keras.applications.inception_v3 import InceptionV3\n",
        "\n",
        "local_weights_file = '/tmp/inception_v3_weights_tf_dim_ordering_tf_kernels_notop.h5'\n",
        "\n",
        "pre_trained_model = InceptionV3(input_shape = (150, 150, 3), \n",
        "                                include_top = False, \n",
        "                                weights = None)\n",
        "\n",
        "pre_trained_model.load_weights(local_weights_file)\n",
        "\n",
        "for layer in pre_trained_model.layers:\n",
        "  layer.trainable = False\n",
        "  \n",
        "# pre_trained_model.summary()\n",
        "\n",
        "last_layer = pre_trained_model.get_layer('mixed7')\n",
        "print('last layer output shape: ', last_layer.output_shape)\n",
        "last_output = last_layer.output"
      ],
      "execution_count": null,
      "outputs": [
        {
          "output_type": "stream",
          "text": [
            "--2021-06-13 11:42:22--  https://storage.googleapis.com/mledu-datasets/inception_v3_weights_tf_dim_ordering_tf_kernels_notop.h5\n",
            "Resolving storage.googleapis.com (storage.googleapis.com)... 173.194.217.128, 108.177.12.128, 172.217.193.128, ...\n",
            "Connecting to storage.googleapis.com (storage.googleapis.com)|173.194.217.128|:443... connected.\n",
            "HTTP request sent, awaiting response... 200 OK\n",
            "Length: 87910968 (84M) [application/x-hdf]\n",
            "Saving to: ‘/tmp/inception_v3_weights_tf_dim_ordering_tf_kernels_notop.h5’\n",
            "\n",
            "/tmp/inception_v3_w 100%[===================>]  83.84M   123MB/s    in 0.7s    \n",
            "\n",
            "2021-06-13 11:42:23 (123 MB/s) - ‘/tmp/inception_v3_weights_tf_dim_ordering_tf_kernels_notop.h5’ saved [87910968/87910968]\n",
            "\n",
            "last layer output shape:  (None, 7, 7, 768)\n"
          ],
          "name": "stdout"
        }
      ]
    },
    {
      "cell_type": "markdown",
      "metadata": {
        "id": "r9RvvdJmAYt9"
      },
      "source": [
        "## **2. Initialize the model**"
      ]
    },
    {
      "cell_type": "code",
      "metadata": {
        "colab": {
          "base_uri": "https://localhost:8080/"
        },
        "id": "HRXtyjtmLi9Q",
        "outputId": "93197db9-8a8b-4df8-9087-8daae6294807"
      },
      "source": [
        "from tensorflow.keras.optimizers import RMSprop\n",
        "\n",
        "# Flatten the output layer to 1 dimension\n",
        "x = layers.Flatten()(last_output)\n",
        "# Add a fully connected layer with 1,024 hidden units and ReLU activation\n",
        "x = layers.Dense(1024, activation='relu')(x)\n",
        "# Add a dropout rate of 0.2\n",
        "x = layers.Dropout(0.2)(x)                  \n",
        "# Add a final sigmoid layer for classification\n",
        "x = layers.Dense  (1, activation='sigmoid')(x)           \n",
        "\n",
        "model = Model( pre_trained_model.input, x) \n",
        "\n",
        "model.compile(optimizer = RMSprop(lr=0.0001), \n",
        "              loss = 'binary_crossentropy', \n",
        "              metrics = ['accuracy'])\n"
      ],
      "execution_count": null,
      "outputs": [
        {
          "output_type": "stream",
          "text": [
            "/usr/local/lib/python3.7/dist-packages/tensorflow/python/keras/optimizer_v2/optimizer_v2.py:375: UserWarning: The `lr` argument is deprecated, use `learning_rate` instead.\n",
            "  \"The `lr` argument is deprecated, use `learning_rate` instead.\")\n"
          ],
          "name": "stderr"
        }
      ]
    },
    {
      "cell_type": "markdown",
      "metadata": {
        "id": "XKw0lowrAhXL"
      },
      "source": [
        "## **3. Image Preprocessing**"
      ]
    },
    {
      "cell_type": "code",
      "metadata": {
        "colab": {
          "base_uri": "https://localhost:8080/"
        },
        "id": "Uciy7qJ_LoqR",
        "outputId": "8a63e58d-039d-4cf9-9a87-19bd8e937f20"
      },
      "source": [
        "!wget --no-check-certificate \\\n",
        "        https://storage.googleapis.com/mledu-datasets/cats_and_dogs_filtered.zip \\\n",
        "       -O /tmp/cats_and_dogs_filtered.zip\n",
        "\n",
        "from tensorflow.keras.preprocessing.image import ImageDataGenerator\n",
        "\n",
        "import os\n",
        "import zipfile\n",
        "\n",
        "local_zip = '//tmp/cats_and_dogs_filtered.zip'\n",
        "\n",
        "zip_ref = zipfile.ZipFile(local_zip, 'r')\n",
        "\n",
        "zip_ref.extractall('/tmp')\n",
        "zip_ref.close()\n",
        "\n",
        "# Define our example directories and files\n",
        "base_dir = '/tmp/cats_and_dogs_filtered'\n",
        "\n",
        "train_dir = os.path.join( base_dir, 'train')\n",
        "validation_dir = os.path.join( base_dir, 'validation')\n",
        "\n",
        "\n",
        "train_cats_dir = os.path.join(train_dir, 'cats') # Directory with our training cat pictures\n",
        "train_dogs_dir = os.path.join(train_dir, 'dogs') # Directory with our training dog pictures\n",
        "validation_cats_dir = os.path.join(validation_dir, 'cats') # Directory with our validation cat pictures\n",
        "validation_dogs_dir = os.path.join(validation_dir, 'dogs')# Directory with our validation dog pictures\n",
        "\n",
        "train_cat_fnames = os.listdir(train_cats_dir)\n",
        "train_dog_fnames = os.listdir(train_dogs_dir)\n",
        "\n",
        "# Add our data-augmentation parameters to ImageDataGenerator\n",
        "train_datagen = ImageDataGenerator(rescale = 1./255.,\n",
        "                                   rotation_range = 40,\n",
        "                                   width_shift_range = 0.2,\n",
        "                                   height_shift_range = 0.2,\n",
        "                                   shear_range = 0.2,\n",
        "                                   zoom_range = 0.2,\n",
        "                                   horizontal_flip = True)\n",
        "\n",
        "# Note that the validation data should not be augmented!\n",
        "test_datagen = ImageDataGenerator( rescale = 1.0/255. )\n",
        "\n",
        "# Flow training images in batches of 20 using train_datagen generator\n",
        "train_generator = train_datagen.flow_from_directory(train_dir,\n",
        "                                                    batch_size = 20,\n",
        "                                                    class_mode = 'binary', \n",
        "                                                    target_size = (150, 150))     \n",
        "\n",
        "# Flow validation images in batches of 20 using test_datagen generator\n",
        "validation_generator =  test_datagen.flow_from_directory( validation_dir,\n",
        "                                                          batch_size  = 20,\n",
        "                                                          class_mode  = 'binary', \n",
        "                                                          target_size = (150, 150))"
      ],
      "execution_count": null,
      "outputs": [
        {
          "output_type": "stream",
          "text": [
            "--2021-06-13 11:43:16--  https://storage.googleapis.com/mledu-datasets/cats_and_dogs_filtered.zip\n",
            "Resolving storage.googleapis.com (storage.googleapis.com)... 64.233.170.128, 108.177.11.128, 74.125.31.128, ...\n",
            "Connecting to storage.googleapis.com (storage.googleapis.com)|64.233.170.128|:443... connected.\n",
            "HTTP request sent, awaiting response... 200 OK\n",
            "Length: 68606236 (65M) [application/zip]\n",
            "Saving to: ‘/tmp/cats_and_dogs_filtered.zip’\n",
            "\n",
            "/tmp/cats_and_dogs_ 100%[===================>]  65.43M   148MB/s    in 0.4s    \n",
            "\n",
            "2021-06-13 11:43:16 (148 MB/s) - ‘/tmp/cats_and_dogs_filtered.zip’ saved [68606236/68606236]\n",
            "\n",
            "Found 2000 images belonging to 2 classes.\n",
            "Found 1000 images belonging to 2 classes.\n"
          ],
          "name": "stdout"
        }
      ]
    },
    {
      "cell_type": "markdown",
      "metadata": {
        "id": "_X9HGIGzAl1F"
      },
      "source": [
        "## **4. Model training**"
      ]
    },
    {
      "cell_type": "code",
      "metadata": {
        "colab": {
          "background_save": true,
          "base_uri": "https://localhost:8080/"
        },
        "id": "dWch32l8LvJv",
        "outputId": "02aac203-06ea-442f-aebe-3c2f59385b9d"
      },
      "source": [
        "history = model.fit(\n",
        "            train_generator,\n",
        "            validation_data = validation_generator,\n",
        "            steps_per_epoch = 100,\n",
        "            epochs = 20,\n",
        "            validation_steps = 50,\n",
        "            verbose = 2)"
      ],
      "execution_count": null,
      "outputs": [
        {
          "output_type": "stream",
          "text": [
            "Epoch 1/20\n",
            "100/100 - 155s - loss: 0.3662 - accuracy: 0.8485 - val_loss: 0.1109 - val_accuracy: 0.9550\n",
            "Epoch 2/20\n",
            "100/100 - 149s - loss: 0.2104 - accuracy: 0.9210 - val_loss: 0.1258 - val_accuracy: 0.9580\n",
            "Epoch 3/20\n",
            "100/100 - 154s - loss: 0.2032 - accuracy: 0.9250 - val_loss: 0.0825 - val_accuracy: 0.9650\n",
            "Epoch 4/20\n",
            "100/100 - 154s - loss: 0.2067 - accuracy: 0.9250 - val_loss: 0.1204 - val_accuracy: 0.9550\n",
            "Epoch 5/20\n",
            "100/100 - 153s - loss: 0.1902 - accuracy: 0.9260 - val_loss: 0.0868 - val_accuracy: 0.9730\n",
            "Epoch 6/20\n",
            "100/100 - 160s - loss: 0.2015 - accuracy: 0.9255 - val_loss: 0.0993 - val_accuracy: 0.9660\n",
            "Epoch 7/20\n",
            "100/100 - 151s - loss: 0.1690 - accuracy: 0.9405 - val_loss: 0.1025 - val_accuracy: 0.9660\n",
            "Epoch 8/20\n",
            "100/100 - 151s - loss: 0.1539 - accuracy: 0.9510 - val_loss: 0.1149 - val_accuracy: 0.9710\n",
            "Epoch 9/20\n",
            "100/100 - 155s - loss: 0.1726 - accuracy: 0.9435 - val_loss: 0.1106 - val_accuracy: 0.9670\n",
            "Epoch 10/20\n",
            "100/100 - 155s - loss: 0.1576 - accuracy: 0.9450 - val_loss: 0.0989 - val_accuracy: 0.9660\n",
            "Epoch 11/20\n",
            "100/100 - 150s - loss: 0.1267 - accuracy: 0.9570 - val_loss: 0.1238 - val_accuracy: 0.9690\n",
            "Epoch 12/20\n",
            "100/100 - 149s - loss: 0.1702 - accuracy: 0.9450 - val_loss: 0.1037 - val_accuracy: 0.9610\n",
            "Epoch 13/20\n",
            "100/100 - 149s - loss: 0.1198 - accuracy: 0.9545 - val_loss: 0.1147 - val_accuracy: 0.9630\n",
            "Epoch 14/20\n",
            "100/100 - 150s - loss: 0.1618 - accuracy: 0.9510 - val_loss: 0.1479 - val_accuracy: 0.9560\n",
            "Epoch 15/20\n",
            "100/100 - 151s - loss: 0.1277 - accuracy: 0.9600 - val_loss: 0.1164 - val_accuracy: 0.9700\n",
            "Epoch 16/20\n",
            "100/100 - 151s - loss: 0.1379 - accuracy: 0.9525 - val_loss: 0.1108 - val_accuracy: 0.9710\n",
            "Epoch 17/20\n",
            "100/100 - 150s - loss: 0.1249 - accuracy: 0.9560 - val_loss: 0.1128 - val_accuracy: 0.9710\n",
            "Epoch 18/20\n",
            "100/100 - 151s - loss: 0.1219 - accuracy: 0.9535 - val_loss: 0.1163 - val_accuracy: 0.9680\n",
            "Epoch 19/20\n",
            "100/100 - 153s - loss: 0.1356 - accuracy: 0.9585 - val_loss: 0.1452 - val_accuracy: 0.9660\n",
            "Epoch 20/20\n",
            "100/100 - 150s - loss: 0.1274 - accuracy: 0.9545 - val_loss: 0.1347 - val_accuracy: 0.9700\n"
          ],
          "name": "stdout"
        }
      ]
    },
    {
      "cell_type": "markdown",
      "metadata": {
        "id": "34jCBQ0fAtHI"
      },
      "source": [
        "## **5. Validate the model**"
      ]
    },
    {
      "cell_type": "code",
      "metadata": {
        "id": "HCXvvqHHQ9OI",
        "colab": {
          "base_uri": "https://localhost:8080/",
          "height": 298
        },
        "outputId": "c0f2012d-f468-4cd9-c1d9-4cd0548aa971"
      },
      "source": [
        "import matplotlib.pyplot as plt\n",
        "acc = history.history['accuracy']\n",
        "val_acc = history.history['val_accuracy']\n",
        "loss = history.history['loss']\n",
        "val_loss = history.history['val_loss']\n",
        "\n",
        "epochs = range(len(acc))\n",
        "\n",
        "plt.plot(epochs, acc, 'r', label='Training accuracy')\n",
        "plt.plot(epochs, val_acc, 'b', label='Validation accuracy')\n",
        "plt.title('Training and validation accuracy')\n",
        "plt.legend(loc=0)\n",
        "plt.figure()\n",
        "\n",
        "\n",
        "plt.show()"
      ],
      "execution_count": null,
      "outputs": [
        {
          "output_type": "display_data",
          "data": {
            "image/png": "[encoded data removed]",
            "text/plain": [
              "<Figure size 432x288 with 1 Axes>"
            ]
          },
          "metadata": {
            "tags": [],
            "needs_background": "light"
          }
        },
        {
          "output_type": "display_data",
          "data": {
            "text/plain": [
              "<Figure size 432x288 with 0 Axes>"
            ]
          },
          "metadata": {
            "tags": []
          }
        }
      ]
    }
  ]
}